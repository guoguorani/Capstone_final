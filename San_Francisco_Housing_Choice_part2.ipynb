{
 "cells": [
  {
   "cell_type": "markdown",
   "metadata": {},
   "source": [
    "# San Francisco Housing Choice For Kiki"
   ]
  },
  {
   "cell_type": "markdown",
   "metadata": {},
   "source": [
    "## Scenario: \n",
    "#### Kiki got a new job in  San Francisco City, so she will move to SF City. The public transportation in SF is great and Kiki has enough time on the commute. Thus she does not need to stay near the company. However, Kiki needs to take her dogs for a walk in the parks and she also likes to do jogging in the park. Therefore, she prefers a place with most parks nearby.\n",
    "\n",
    "## Goal: \n",
    "#### Help Kiki find the place with most parks or gardens."
   ]
  },
  {
   "cell_type": "markdown",
   "metadata": {},
   "source": [
    "Library imported:"
   ]
  },
  {
   "cell_type": "code",
   "execution_count": 1,
   "metadata": {},
   "outputs": [],
   "source": [
    "import pandas as pd\n",
    "from urllib.request import urlopen\n",
    "from six.moves import urllib\n",
    "import json\n",
    "from pandas.io.json import json_normalize\n",
    "\n",
    "import numpy as np # library to handle data in a vectorized manner\n",
    "\n",
    "import pandas as pd # library for data analsysis\n",
    "pd.set_option('display.max_columns', None)\n",
    "pd.set_option('display.max_rows', None)\n",
    "\n",
    "\n",
    "import requests # library to handle requests\n",
    "\n",
    "# Matplotlib and associated plotting modules\n",
    "import matplotlib.cm as cm\n",
    "import matplotlib.colors as colors\n",
    "\n",
    "# import k-means from clustering stage\n",
    "from sklearn.cluster import KMeans"
   ]
  },
  {
   "cell_type": "markdown",
   "metadata": {},
   "source": [
    "## 1.The Dataset"
   ]
  },
  {
   "cell_type": "code",
   "execution_count": 25,
   "metadata": {},
   "outputs": [],
   "source": [
    "url = 'https://data.sfgov.org/api/views/a8z7-xscr/rows.json?accessType=DOWNLOAD'"
   ]
  },
  {
   "cell_type": "code",
   "execution_count": 26,
   "metadata": {},
   "outputs": [],
   "source": [
    "json_obj = json.load(urllib.request.urlopen(url))"
   ]
  },
  {
   "cell_type": "code",
   "execution_count": 27,
   "metadata": {},
   "outputs": [],
   "source": [
    "with open('SanFrancisco.Neighborhoods.json') as f:\n",
    "      data = json.load(f)"
   ]
  },
  {
   "cell_type": "code",
   "execution_count": 28,
   "metadata": {},
   "outputs": [
    {
     "data": {
      "text/html": [
       "<div>\n",
       "<style scoped>\n",
       "    .dataframe tbody tr th:only-of-type {\n",
       "        vertical-align: middle;\n",
       "    }\n",
       "\n",
       "    .dataframe tbody tr th {\n",
       "        vertical-align: top;\n",
       "    }\n",
       "\n",
       "    .dataframe thead th {\n",
       "        text-align: right;\n",
       "    }\n",
       "</style>\n",
       "<table border=\"1\" class=\"dataframe\">\n",
       "  <thead>\n",
       "    <tr style=\"text-align: right;\">\n",
       "      <th></th>\n",
       "      <th>id</th>\n",
       "      <th>type</th>\n",
       "      <th>geometry.geometries</th>\n",
       "      <th>geometry.type</th>\n",
       "      <th>properties.id</th>\n",
       "      <th>properties.neighborhood</th>\n",
       "    </tr>\n",
       "  </thead>\n",
       "  <tbody>\n",
       "    <tr>\n",
       "      <td>0</td>\n",
       "      <td>94105</td>\n",
       "      <td>Feature</td>\n",
       "      <td>[{'type': 'Polygon', 'coordinates': [[[-122.39...</td>\n",
       "      <td>GeometryCollection</td>\n",
       "      <td>94105</td>\n",
       "      <td>Rincon Hill</td>\n",
       "    </tr>\n",
       "    <tr>\n",
       "      <td>1</td>\n",
       "      <td>94107</td>\n",
       "      <td>Feature</td>\n",
       "      <td>[{'type': 'Polygon', 'coordinates': [[[-122.38...</td>\n",
       "      <td>GeometryCollection</td>\n",
       "      <td>94107</td>\n",
       "      <td>South Beach</td>\n",
       "    </tr>\n",
       "    <tr>\n",
       "      <td>2</td>\n",
       "      <td>94108</td>\n",
       "      <td>Feature</td>\n",
       "      <td>[{'type': 'Polygon', 'coordinates': [[[-122.40...</td>\n",
       "      <td>GeometryCollection</td>\n",
       "      <td>94108</td>\n",
       "      <td>Chinatown</td>\n",
       "    </tr>\n",
       "    <tr>\n",
       "      <td>3</td>\n",
       "      <td>94109</td>\n",
       "      <td>Feature</td>\n",
       "      <td>[{'type': 'Polygon', 'coordinates': [[[-122.42...</td>\n",
       "      <td>GeometryCollection</td>\n",
       "      <td>94109</td>\n",
       "      <td>Nob Hill</td>\n",
       "    </tr>\n",
       "    <tr>\n",
       "      <td>4</td>\n",
       "      <td>94112</td>\n",
       "      <td>Feature</td>\n",
       "      <td>[{'type': 'Polygon', 'coordinates': [[[-122.42...</td>\n",
       "      <td>GeometryCollection</td>\n",
       "      <td>94112</td>\n",
       "      <td>Ingleside</td>\n",
       "    </tr>\n",
       "  </tbody>\n",
       "</table>\n",
       "</div>"
      ],
      "text/plain": [
       "      id     type                                geometry.geometries  \\\n",
       "0  94105  Feature  [{'type': 'Polygon', 'coordinates': [[[-122.39...   \n",
       "1  94107  Feature  [{'type': 'Polygon', 'coordinates': [[[-122.38...   \n",
       "2  94108  Feature  [{'type': 'Polygon', 'coordinates': [[[-122.40...   \n",
       "3  94109  Feature  [{'type': 'Polygon', 'coordinates': [[[-122.42...   \n",
       "4  94112  Feature  [{'type': 'Polygon', 'coordinates': [[[-122.42...   \n",
       "\n",
       "        geometry.type properties.id properties.neighborhood  \n",
       "0  GeometryCollection         94105             Rincon Hill  \n",
       "1  GeometryCollection         94107             South Beach  \n",
       "2  GeometryCollection         94108               Chinatown  \n",
       "3  GeometryCollection         94109                Nob Hill  \n",
       "4  GeometryCollection         94112               Ingleside  "
      ]
     },
     "execution_count": 28,
     "metadata": {},
     "output_type": "execute_result"
    }
   ],
   "source": [
    "# assign relevant part of JSON to venues\n",
    "venues = data['features']\n",
    "\n",
    "# tranform venues into a dataframe\n",
    "dataframe = json_normalize(venues)\n",
    "dataframe.head(5)"
   ]
  },
  {
   "cell_type": "markdown",
   "metadata": {},
   "source": [
    "### Cleaning of the dataset:"
   ]
  },
  {
   "cell_type": "code",
   "execution_count": 29,
   "metadata": {},
   "outputs": [],
   "source": [
    "def get_category_type(row):\n",
    "    try:\n",
    "        categories_list = row['geometry.geometries']\n",
    "    except:\n",
    "        categories_list = row['geometry.geometries']\n",
    "        \n",
    "    if len(categories_list) == 0:\n",
    "        return None\n",
    "    else:\n",
    "        return categories_list[0]['coordinates']\n",
    "\n",
    "dataframe['coordinates'] = dataframe.apply(get_category_type, axis=1)\n",
    "\n",
    "def get_category_type(row):\n",
    "    try:\n",
    "        categories_list = row['geometry.geometries']\n",
    "    except:\n",
    "        categories_list = row['geometry.geometries']\n",
    "        \n",
    "    if len(categories_list) == 0:\n",
    "        return None\n",
    "    else:\n",
    "        return categories_list[0]['type']\n",
    "\n",
    "dataframe['coordinates_type'] = dataframe.apply(get_category_type, axis=1)"
   ]
  },
  {
   "cell_type": "code",
   "execution_count": 32,
   "metadata": {},
   "outputs": [],
   "source": [
    "dataframe = dataframe.drop(columns=['geometry.geometries','id','type','geometry.type'])\n",
    "dataframe = dataframe.rename(columns={'properties.id':'PostalCode','properties.neighborhood':'Neighborhood'})\n",
    "dataframe = dataframe.sort_values(by='Neighborhood')"
   ]
  },
  {
   "cell_type": "code",
   "execution_count": 33,
   "metadata": {},
   "outputs": [],
   "source": [
    "dataframe=dataframe[dataframe.coordinates_type!='MultiPolygon']"
   ]
  },
  {
   "cell_type": "code",
   "execution_count": 34,
   "metadata": {},
   "outputs": [],
   "source": [
    "def avg(d):\n",
    "    n=0\n",
    "    x=0\n",
    "    y=0\n",
    "    for i in d:\n",
    "        for j in i:\n",
    "            x=j[0]+x\n",
    "            y=j[1]+y\n",
    "            n=n+1\n",
    "    x=x/n\n",
    "    y=y/n\n",
    "    k=[x,y]\n",
    "    return(k)\n",
    "\n",
    "dataframe.coordinates=dataframe.coordinates.apply(avg)"
   ]
  },
  {
   "cell_type": "code",
   "execution_count": 35,
   "metadata": {},
   "outputs": [],
   "source": [
    "dataframe['Latitude']= dataframe['coordinates'].apply(lambda x: x[1])\n",
    "dataframe['Longitude']= dataframe['coordinates'].apply(lambda x: x[0])"
   ]
  },
  {
   "cell_type": "code",
   "execution_count": 36,
   "metadata": {},
   "outputs": [],
   "source": [
    "SF_data = dataframe.drop(columns=['coordinates','coordinates_type'])"
   ]
  },
  {
   "cell_type": "code",
   "execution_count": 37,
   "metadata": {},
   "outputs": [
    {
     "data": {
      "text/html": [
       "<div>\n",
       "<style scoped>\n",
       "    .dataframe tbody tr th:only-of-type {\n",
       "        vertical-align: middle;\n",
       "    }\n",
       "\n",
       "    .dataframe tbody tr th {\n",
       "        vertical-align: top;\n",
       "    }\n",
       "\n",
       "    .dataframe thead th {\n",
       "        text-align: right;\n",
       "    }\n",
       "</style>\n",
       "<table border=\"1\" class=\"dataframe\">\n",
       "  <thead>\n",
       "    <tr style=\"text-align: right;\">\n",
       "      <th></th>\n",
       "      <th>PostalCode</th>\n",
       "      <th>Neighborhood</th>\n",
       "      <th>Latitude</th>\n",
       "      <th>Longitude</th>\n",
       "    </tr>\n",
       "  </thead>\n",
       "  <tbody>\n",
       "    <tr>\n",
       "      <td>22</td>\n",
       "      <td>94134</td>\n",
       "      <td>Bayshore</td>\n",
       "      <td>37.718559</td>\n",
       "      <td>-122.412709</td>\n",
       "    </tr>\n",
       "    <tr>\n",
       "      <td>7</td>\n",
       "      <td>94124</td>\n",
       "      <td>Bayview</td>\n",
       "      <td>37.726869</td>\n",
       "      <td>-122.375455</td>\n",
       "    </tr>\n",
       "    <tr>\n",
       "      <td>5</td>\n",
       "      <td>94114</td>\n",
       "      <td>Castro</td>\n",
       "      <td>37.757239</td>\n",
       "      <td>-122.443479</td>\n",
       "    </tr>\n",
       "    <tr>\n",
       "      <td>2</td>\n",
       "      <td>94108</td>\n",
       "      <td>Chinatown</td>\n",
       "      <td>37.792016</td>\n",
       "      <td>-122.407486</td>\n",
       "    </tr>\n",
       "    <tr>\n",
       "      <td>15</td>\n",
       "      <td>94111</td>\n",
       "      <td>Financial District</td>\n",
       "      <td>37.801225</td>\n",
       "      <td>-122.399718</td>\n",
       "    </tr>\n",
       "  </tbody>\n",
       "</table>\n",
       "</div>"
      ],
      "text/plain": [
       "   PostalCode        Neighborhood   Latitude   Longitude\n",
       "22      94134            Bayshore  37.718559 -122.412709\n",
       "7       94124             Bayview  37.726869 -122.375455\n",
       "5       94114              Castro  37.757239 -122.443479\n",
       "2       94108           Chinatown  37.792016 -122.407486\n",
       "15      94111  Financial District  37.801225 -122.399718"
      ]
     },
     "execution_count": 37,
     "metadata": {},
     "output_type": "execute_result"
    }
   ],
   "source": [
    "SF_data.head()"
   ]
  },
  {
   "cell_type": "code",
   "execution_count": null,
   "metadata": {},
   "outputs": [],
   "source": []
  }
 ],
 "metadata": {
  "kernelspec": {
   "display_name": "Python 3",
   "language": "python",
   "name": "python3"
  },
  "language_info": {
   "codemirror_mode": {
    "name": "ipython",
    "version": 3
   },
   "file_extension": ".py",
   "mimetype": "text/x-python",
   "name": "python",
   "nbconvert_exporter": "python",
   "pygments_lexer": "ipython3",
   "version": "3.7.4"
  }
 },
 "nbformat": 4,
 "nbformat_minor": 2
}
